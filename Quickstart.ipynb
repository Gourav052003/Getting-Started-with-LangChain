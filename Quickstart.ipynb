{
 "cells": [
  {
   "cell_type": "code",
   "execution_count": 1,
   "metadata": {},
   "outputs": [],
   "source": [
    "import os\n",
    "from pathlib import Path\n",
    "from dotenv import load_dotenv"
   ]
  },
  {
   "cell_type": "code",
   "execution_count": 2,
   "metadata": {},
   "outputs": [
    {
     "data": {
      "text/plain": [
       "True"
      ]
     },
     "execution_count": 2,
     "metadata": {},
     "output_type": "execute_result"
    }
   ],
   "source": [
    "load_dotenv(Path(\"Environment Variables.env\"))"
   ]
  },
  {
   "cell_type": "code",
   "execution_count": 3,
   "metadata": {},
   "outputs": [],
   "source": [
    "OpenAI_API_key = os.getenv('OPENAI_API_KEY')\n",
    "langchain_tracing_V2 = os.getenv(\"LANGCHAIN_TRACING_V2\")\n",
    "langchain_API_key = os.getenv(\"LANGCHAIN_API_KEY\")"
   ]
  },
  {
   "cell_type": "code",
   "execution_count": 6,
   "metadata": {},
   "outputs": [
    {
     "data": {
      "text/plain": [
       "ChatOpenAI(client=<openai.resources.chat.completions.Completions object at 0x000001CE0611E400>, async_client=<openai.resources.chat.completions.AsyncCompletions object at 0x000001CE06124910>, openai_api_key=SecretStr('**********'), openai_proxy='')"
      ]
     },
     "execution_count": 6,
     "metadata": {},
     "output_type": "execute_result"
    }
   ],
   "source": [
    "from langchain_openai import ChatOpenAI\n",
    "llm = ChatOpenAI(openai_api_key=OpenAI_API_key)\n",
    "llm"
   ]
  },
  {
   "cell_type": "code",
   "execution_count": 27,
   "metadata": {},
   "outputs": [
    {
     "data": {
      "text/plain": [
       "AIMessage(content='Langsmith can help with testing by providing automated testing tools, such as test frameworks and test scripts, that can be used to automate the testing process. It can also help with generating test data, running tests in parallel, and integrating with continuous integration tools to streamline the testing process. Additionally, Langsmith can provide insights and analytics on test results, helping to identify and address any issues or bugs in the code.')"
      ]
     },
     "execution_count": 27,
     "metadata": {},
     "output_type": "execute_result"
    }
   ],
   "source": [
    "llm.invoke(\"how can langsmith help with testing?\")"
   ]
  },
  {
   "cell_type": "code",
   "execution_count": 5,
   "metadata": {},
   "outputs": [
    {
     "data": {
      "text/plain": [
       "ChatPromptTemplate(input_variables=['input'], messages=[SystemMessagePromptTemplate(prompt=PromptTemplate(input_variables=[], template='You are world class technical documentation writer.')), HumanMessagePromptTemplate(prompt=PromptTemplate(input_variables=['input'], template='{input}'))])"
      ]
     },
     "execution_count": 5,
     "metadata": {},
     "output_type": "execute_result"
    }
   ],
   "source": [
    "from langchain_core.prompts import ChatPromptTemplate\n",
    "prompt = ChatPromptTemplate.from_messages([\n",
    "    (\"system\", \"You are world class technical documentation writer.\"),\n",
    "    (\"user\", \"{input}\")\n",
    "])\n",
    "\n",
    "prompt"
   ]
  },
  {
   "cell_type": "code",
   "execution_count": 7,
   "metadata": {},
   "outputs": [
    {
     "data": {
      "text/plain": [
       "ChatPromptTemplate(input_variables=['input'], messages=[SystemMessagePromptTemplate(prompt=PromptTemplate(input_variables=[], template='You are world class technical documentation writer.')), HumanMessagePromptTemplate(prompt=PromptTemplate(input_variables=['input'], template='{input}'))])\n",
       "| ChatOpenAI(client=<openai.resources.chat.completions.Completions object at 0x000001CE0611E400>, async_client=<openai.resources.chat.completions.AsyncCompletions object at 0x000001CE06124910>, openai_api_key=SecretStr('**********'), openai_proxy='')"
      ]
     },
     "execution_count": 7,
     "metadata": {},
     "output_type": "execute_result"
    }
   ],
   "source": [
    "chain = prompt | llm \n",
    "chain"
   ]
  },
  {
   "cell_type": "code",
   "execution_count": 32,
   "metadata": {},
   "outputs": [
    {
     "data": {
      "text/plain": [
       "AIMessage(content='Langsmith can help with testing in several ways:\\n\\n1. Test case generation: Langsmith can generate test cases automatically based on the specifications and requirements provided. This can help in quickly creating a comprehensive set of test cases to cover different scenarios and edge cases.\\n\\n2. Test automation: Langsmith can be used to automate the execution of test cases, saving time and effort in manual testing. It can run the test cases repeatedly and consistently, ensuring that the application behaves as expected across different builds and environments.\\n\\n3. Code analysis: Langsmith can perform static code analysis to identify potential issues and bugs in the code before testing. This can help in improving code quality and reducing the number of defects found during testing.\\n\\n4. Performance testing: Langsmith can simulate the behavior of multiple users accessing the application simultaneously to test its performance under different load conditions. This can help in identifying performance bottlenecks and optimizing the application for better scalability.\\n\\n5. Integration testing: Langsmith can help in testing the integration of different components or systems by automating the execution of test cases that cover end-to-end scenarios. This can ensure that the application functions correctly as a whole, not just as individual components.\\n\\nOverall, Langsmith can streamline the testing process, increase test coverage, improve code quality, and identify issues early in the development lifecycle, ultimately leading to a more reliable and robust software product.')"
      ]
     },
     "execution_count": 32,
     "metadata": {},
     "output_type": "execute_result"
    }
   ],
   "source": [
    "chain.invoke({\"input\": \"how can langsmith help with testing?\"})"
   ]
  },
  {
   "cell_type": "code",
   "execution_count": 8,
   "metadata": {},
   "outputs": [
    {
     "data": {
      "text/plain": [
       "\"Langsmith can greatly assist with testing by providing a platform for automating the testing process. Using Langsmith, you can create and execute automated tests for your software applications, APIs, or services. This can help in detecting bugs, errors, and regressions early in the development cycle, thereby improving the overall quality of your software.\\n\\nLangsmith's testing capabilities include:\\n\\n1. Test Case Management: Langsmith allows you to create and organize test cases effectively. You can define test scenarios, input data, expected outcomes, and assertions within the platform.\\n\\n2. Test Automation: Langsmith supports automated testing by enabling you to write test scripts using popular programming languages such as Python, JavaScript, or Java. You can also leverage built-in test automation frameworks like Selenium for web testing.\\n\\n3. Test Execution: With Langsmith, you can run your test cases across different environments and configurations. The platform provides detailed test execution reports, including test results, logs, and screenshots for easy analysis.\\n\\n4. Integration Testing: Langsmith can integrate with other tools and services in your testing ecosystem, such as continuous integration servers, version control systems, and bug tracking tools. This ensures seamless collaboration and visibility across your testing processes.\\n\\n5. Performance Testing: Langsmith supports performance testing by allowing you to simulate various load conditions on your applications or APIs. You can measure response times, throughput, and resource utilization to identify performance bottlenecks.\\n\\n6. Continuous Testing: By incorporating Langsmith into your continuous integration/continuous delivery (CI/CD) pipeline, you can automate testing at every stage of the software delivery process. This helps in delivering high-quality software faster and more reliably.\\n\\nIn summary, Langsmith can streamline your testing efforts, improve test coverage, and enhance the overall quality of your software products through automation and efficient test management capabilities.\""
      ]
     },
     "execution_count": 8,
     "metadata": {},
     "output_type": "execute_result"
    }
   ],
   "source": [
    "from langchain_core.output_parsers import StrOutputParser\n",
    "\n",
    "output_parser = StrOutputParser()\n",
    "chain = prompt | llm | output_parser\n",
    "chain.invoke({\"input\": \"how can langsmith help with testing?\"})"
   ]
  },
  {
   "cell_type": "code",
   "execution_count": null,
   "metadata": {},
   "outputs": [],
   "source": []
  }
 ],
 "metadata": {
  "interpreter": {
   "hash": "ec1fd802550f3fb9bfb7351e3712086e6558fbb1ef4023c675cff0d8de4eb47d"
  },
  "kernelspec": {
   "display_name": "Python 3.9.7 64-bit ('LangChain Environment': venv)",
   "name": "python3"
  },
  "language_info": {
   "codemirror_mode": {
    "name": "ipython",
    "version": 3
   },
   "file_extension": ".py",
   "mimetype": "text/x-python",
   "name": "python",
   "nbconvert_exporter": "python",
   "pygments_lexer": "ipython3",
   "version": "3.9.7"
  },
  "orig_nbformat": 4
 },
 "nbformat": 4,
 "nbformat_minor": 2
}
